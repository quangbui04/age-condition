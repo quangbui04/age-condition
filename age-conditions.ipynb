{
 "cells": [
  {
   "cell_type": "code",
   "execution_count": 1,
   "id": "225576da",
   "metadata": {
    "_cell_guid": "b1076dfc-b9ad-4769-8c92-a6c4dae69d19",
    "_uuid": "8f2839f25d086af736a60e9eeb907d3b93b6e0e5",
    "execution": {
     "iopub.execute_input": "2023-06-03T16:31:22.315769Z",
     "iopub.status.busy": "2023-06-03T16:31:22.315355Z",
     "iopub.status.idle": "2023-06-03T16:31:24.052553Z",
     "shell.execute_reply": "2023-06-03T16:31:24.051364Z"
    },
    "papermill": {
     "duration": 1.754336,
     "end_time": "2023-06-03T16:31:24.055392",
     "exception": false,
     "start_time": "2023-06-03T16:31:22.301056",
     "status": "completed"
    },
    "tags": []
   },
   "outputs": [],
   "source": [
    "import numpy as np # linear algebra\n",
    "import pandas as pd # data processing, CSV file I/O (e.g. pd.read_csv\n",
    "from sklearn.preprocessing import StandardScaler, OneHotEncoder\n",
    "from sklearn.decomposition import PCA\n",
    "from sklearn.linear_model import LogisticRegression\n",
    "from sklearn.pipeline import make_pipeline"
   ]
  },
  {
   "cell_type": "code",
   "execution_count": 2,
   "id": "0f416cbd",
   "metadata": {
    "execution": {
     "iopub.execute_input": "2023-06-03T16:31:24.082425Z",
     "iopub.status.busy": "2023-06-03T16:31:24.081971Z",
     "iopub.status.idle": "2023-06-03T16:31:24.131830Z",
     "shell.execute_reply": "2023-06-03T16:31:24.130843Z"
    },
    "papermill": {
     "duration": 0.066805,
     "end_time": "2023-06-03T16:31:24.134668",
     "exception": false,
     "start_time": "2023-06-03T16:31:24.067863",
     "status": "completed"
    },
    "tags": []
   },
   "outputs": [],
   "source": [
    "df_train = pd.read_csv(\"/kaggle/input/icr-identify-age-related-conditions/train.csv\")\n",
    "df_greek = pd.read_csv(\"/kaggle/input/icr-identify-age-related-conditions/greeks.csv\")"
   ]
  },
  {
   "cell_type": "code",
   "execution_count": 3,
   "id": "0067e6bc",
   "metadata": {
    "execution": {
     "iopub.execute_input": "2023-06-03T16:31:24.163498Z",
     "iopub.status.busy": "2023-06-03T16:31:24.162825Z",
     "iopub.status.idle": "2023-06-03T16:31:24.216560Z",
     "shell.execute_reply": "2023-06-03T16:31:24.215322Z"
    },
    "papermill": {
     "duration": 0.070615,
     "end_time": "2023-06-03T16:31:24.219198",
     "exception": false,
     "start_time": "2023-06-03T16:31:24.148583",
     "status": "completed"
    },
    "tags": []
   },
   "outputs": [
    {
     "data": {
      "text/html": [
       "<div>\n",
       "<style scoped>\n",
       "    .dataframe tbody tr th:only-of-type {\n",
       "        vertical-align: middle;\n",
       "    }\n",
       "\n",
       "    .dataframe tbody tr th {\n",
       "        vertical-align: top;\n",
       "    }\n",
       "\n",
       "    .dataframe thead th {\n",
       "        text-align: right;\n",
       "    }\n",
       "</style>\n",
       "<table border=\"1\" class=\"dataframe\">\n",
       "  <thead>\n",
       "    <tr style=\"text-align: right;\">\n",
       "      <th></th>\n",
       "      <th>Id</th>\n",
       "      <th>AB</th>\n",
       "      <th>AF</th>\n",
       "      <th>AH</th>\n",
       "      <th>AM</th>\n",
       "      <th>AR</th>\n",
       "      <th>AX</th>\n",
       "      <th>AY</th>\n",
       "      <th>AZ</th>\n",
       "      <th>BC</th>\n",
       "      <th>...</th>\n",
       "      <th>FL</th>\n",
       "      <th>FR</th>\n",
       "      <th>FS</th>\n",
       "      <th>GB</th>\n",
       "      <th>GE</th>\n",
       "      <th>GF</th>\n",
       "      <th>GH</th>\n",
       "      <th>GI</th>\n",
       "      <th>GL</th>\n",
       "      <th>Class</th>\n",
       "    </tr>\n",
       "  </thead>\n",
       "  <tbody>\n",
       "    <tr>\n",
       "      <th>0</th>\n",
       "      <td>000ff2bfdfe9</td>\n",
       "      <td>0.209377</td>\n",
       "      <td>3109.03329</td>\n",
       "      <td>85.200147</td>\n",
       "      <td>22.394407</td>\n",
       "      <td>8.138688</td>\n",
       "      <td>0.699861</td>\n",
       "      <td>0.025578</td>\n",
       "      <td>9.812214</td>\n",
       "      <td>5.555634</td>\n",
       "      <td>...</td>\n",
       "      <td>7.298162</td>\n",
       "      <td>1.73855</td>\n",
       "      <td>0.094822</td>\n",
       "      <td>11.339138</td>\n",
       "      <td>72.611063</td>\n",
       "      <td>2003.810319</td>\n",
       "      <td>22.136229</td>\n",
       "      <td>69.834944</td>\n",
       "      <td>0.120343</td>\n",
       "      <td>1</td>\n",
       "    </tr>\n",
       "    <tr>\n",
       "      <th>1</th>\n",
       "      <td>007255e47698</td>\n",
       "      <td>0.145282</td>\n",
       "      <td>978.76416</td>\n",
       "      <td>85.200147</td>\n",
       "      <td>36.968889</td>\n",
       "      <td>8.138688</td>\n",
       "      <td>3.632190</td>\n",
       "      <td>0.025578</td>\n",
       "      <td>13.517790</td>\n",
       "      <td>1.229900</td>\n",
       "      <td>...</td>\n",
       "      <td>0.173229</td>\n",
       "      <td>0.49706</td>\n",
       "      <td>0.568932</td>\n",
       "      <td>9.292698</td>\n",
       "      <td>72.611063</td>\n",
       "      <td>27981.562750</td>\n",
       "      <td>29.135430</td>\n",
       "      <td>32.131996</td>\n",
       "      <td>21.978000</td>\n",
       "      <td>0</td>\n",
       "    </tr>\n",
       "    <tr>\n",
       "      <th>2</th>\n",
       "      <td>013f2bd269f5</td>\n",
       "      <td>0.470030</td>\n",
       "      <td>2635.10654</td>\n",
       "      <td>85.200147</td>\n",
       "      <td>32.360553</td>\n",
       "      <td>8.138688</td>\n",
       "      <td>6.732840</td>\n",
       "      <td>0.025578</td>\n",
       "      <td>12.824570</td>\n",
       "      <td>1.229900</td>\n",
       "      <td>...</td>\n",
       "      <td>7.709560</td>\n",
       "      <td>0.97556</td>\n",
       "      <td>1.198821</td>\n",
       "      <td>37.077772</td>\n",
       "      <td>88.609437</td>\n",
       "      <td>13676.957810</td>\n",
       "      <td>28.022851</td>\n",
       "      <td>35.192676</td>\n",
       "      <td>0.196941</td>\n",
       "      <td>0</td>\n",
       "    </tr>\n",
       "    <tr>\n",
       "      <th>3</th>\n",
       "      <td>043ac50845d5</td>\n",
       "      <td>0.252107</td>\n",
       "      <td>3819.65177</td>\n",
       "      <td>120.201618</td>\n",
       "      <td>77.112203</td>\n",
       "      <td>8.138688</td>\n",
       "      <td>3.685344</td>\n",
       "      <td>0.025578</td>\n",
       "      <td>11.053708</td>\n",
       "      <td>1.229900</td>\n",
       "      <td>...</td>\n",
       "      <td>6.122162</td>\n",
       "      <td>0.49706</td>\n",
       "      <td>0.284466</td>\n",
       "      <td>18.529584</td>\n",
       "      <td>82.416803</td>\n",
       "      <td>2094.262452</td>\n",
       "      <td>39.948656</td>\n",
       "      <td>90.493248</td>\n",
       "      <td>0.155829</td>\n",
       "      <td>0</td>\n",
       "    </tr>\n",
       "    <tr>\n",
       "      <th>4</th>\n",
       "      <td>044fb8a146ec</td>\n",
       "      <td>0.380297</td>\n",
       "      <td>3733.04844</td>\n",
       "      <td>85.200147</td>\n",
       "      <td>14.103738</td>\n",
       "      <td>8.138688</td>\n",
       "      <td>3.942255</td>\n",
       "      <td>0.054810</td>\n",
       "      <td>3.396778</td>\n",
       "      <td>102.151980</td>\n",
       "      <td>...</td>\n",
       "      <td>8.153058</td>\n",
       "      <td>48.50134</td>\n",
       "      <td>0.121914</td>\n",
       "      <td>16.408728</td>\n",
       "      <td>146.109943</td>\n",
       "      <td>8524.370502</td>\n",
       "      <td>45.381316</td>\n",
       "      <td>36.262628</td>\n",
       "      <td>0.096614</td>\n",
       "      <td>1</td>\n",
       "    </tr>\n",
       "  </tbody>\n",
       "</table>\n",
       "<p>5 rows × 58 columns</p>\n",
       "</div>"
      ],
      "text/plain": [
       "             Id        AB          AF          AH         AM        AR  \\\n",
       "0  000ff2bfdfe9  0.209377  3109.03329   85.200147  22.394407  8.138688   \n",
       "1  007255e47698  0.145282   978.76416   85.200147  36.968889  8.138688   \n",
       "2  013f2bd269f5  0.470030  2635.10654   85.200147  32.360553  8.138688   \n",
       "3  043ac50845d5  0.252107  3819.65177  120.201618  77.112203  8.138688   \n",
       "4  044fb8a146ec  0.380297  3733.04844   85.200147  14.103738  8.138688   \n",
       "\n",
       "         AX        AY         AZ          BC  ...        FL        FR  \\\n",
       "0  0.699861  0.025578   9.812214    5.555634  ...  7.298162   1.73855   \n",
       "1  3.632190  0.025578  13.517790    1.229900  ...  0.173229   0.49706   \n",
       "2  6.732840  0.025578  12.824570    1.229900  ...  7.709560   0.97556   \n",
       "3  3.685344  0.025578  11.053708    1.229900  ...  6.122162   0.49706   \n",
       "4  3.942255  0.054810   3.396778  102.151980  ...  8.153058  48.50134   \n",
       "\n",
       "         FS         GB          GE            GF         GH         GI  \\\n",
       "0  0.094822  11.339138   72.611063   2003.810319  22.136229  69.834944   \n",
       "1  0.568932   9.292698   72.611063  27981.562750  29.135430  32.131996   \n",
       "2  1.198821  37.077772   88.609437  13676.957810  28.022851  35.192676   \n",
       "3  0.284466  18.529584   82.416803   2094.262452  39.948656  90.493248   \n",
       "4  0.121914  16.408728  146.109943   8524.370502  45.381316  36.262628   \n",
       "\n",
       "          GL  Class  \n",
       "0   0.120343      1  \n",
       "1  21.978000      0  \n",
       "2   0.196941      0  \n",
       "3   0.155829      0  \n",
       "4   0.096614      1  \n",
       "\n",
       "[5 rows x 58 columns]"
      ]
     },
     "execution_count": 3,
     "metadata": {},
     "output_type": "execute_result"
    }
   ],
   "source": [
    "df_train.head()"
   ]
  },
  {
   "cell_type": "code",
   "execution_count": 4,
   "id": "556683c1",
   "metadata": {
    "execution": {
     "iopub.execute_input": "2023-06-03T16:31:24.247682Z",
     "iopub.status.busy": "2023-06-03T16:31:24.247260Z",
     "iopub.status.idle": "2023-06-03T16:31:24.260764Z",
     "shell.execute_reply": "2023-06-03T16:31:24.259584Z"
    },
    "papermill": {
     "duration": 0.030871,
     "end_time": "2023-06-03T16:31:24.263402",
     "exception": false,
     "start_time": "2023-06-03T16:31:24.232531",
     "status": "completed"
    },
    "tags": []
   },
   "outputs": [
    {
     "data": {
      "text/html": [
       "<div>\n",
       "<style scoped>\n",
       "    .dataframe tbody tr th:only-of-type {\n",
       "        vertical-align: middle;\n",
       "    }\n",
       "\n",
       "    .dataframe tbody tr th {\n",
       "        vertical-align: top;\n",
       "    }\n",
       "\n",
       "    .dataframe thead th {\n",
       "        text-align: right;\n",
       "    }\n",
       "</style>\n",
       "<table border=\"1\" class=\"dataframe\">\n",
       "  <thead>\n",
       "    <tr style=\"text-align: right;\">\n",
       "      <th></th>\n",
       "      <th>Id</th>\n",
       "      <th>Alpha</th>\n",
       "      <th>Beta</th>\n",
       "      <th>Gamma</th>\n",
       "      <th>Delta</th>\n",
       "      <th>Epsilon</th>\n",
       "    </tr>\n",
       "  </thead>\n",
       "  <tbody>\n",
       "    <tr>\n",
       "      <th>0</th>\n",
       "      <td>000ff2bfdfe9</td>\n",
       "      <td>B</td>\n",
       "      <td>C</td>\n",
       "      <td>G</td>\n",
       "      <td>D</td>\n",
       "      <td>3/19/2019</td>\n",
       "    </tr>\n",
       "    <tr>\n",
       "      <th>1</th>\n",
       "      <td>007255e47698</td>\n",
       "      <td>A</td>\n",
       "      <td>C</td>\n",
       "      <td>M</td>\n",
       "      <td>B</td>\n",
       "      <td>Unknown</td>\n",
       "    </tr>\n",
       "    <tr>\n",
       "      <th>2</th>\n",
       "      <td>013f2bd269f5</td>\n",
       "      <td>A</td>\n",
       "      <td>C</td>\n",
       "      <td>M</td>\n",
       "      <td>B</td>\n",
       "      <td>Unknown</td>\n",
       "    </tr>\n",
       "    <tr>\n",
       "      <th>3</th>\n",
       "      <td>043ac50845d5</td>\n",
       "      <td>A</td>\n",
       "      <td>C</td>\n",
       "      <td>M</td>\n",
       "      <td>B</td>\n",
       "      <td>Unknown</td>\n",
       "    </tr>\n",
       "    <tr>\n",
       "      <th>4</th>\n",
       "      <td>044fb8a146ec</td>\n",
       "      <td>D</td>\n",
       "      <td>B</td>\n",
       "      <td>F</td>\n",
       "      <td>B</td>\n",
       "      <td>3/25/2020</td>\n",
       "    </tr>\n",
       "  </tbody>\n",
       "</table>\n",
       "</div>"
      ],
      "text/plain": [
       "             Id Alpha Beta Gamma Delta    Epsilon\n",
       "0  000ff2bfdfe9     B    C     G     D  3/19/2019\n",
       "1  007255e47698     A    C     M     B    Unknown\n",
       "2  013f2bd269f5     A    C     M     B    Unknown\n",
       "3  043ac50845d5     A    C     M     B    Unknown\n",
       "4  044fb8a146ec     D    B     F     B  3/25/2020"
      ]
     },
     "execution_count": 4,
     "metadata": {},
     "output_type": "execute_result"
    }
   ],
   "source": [
    "df_greek.head()"
   ]
  },
  {
   "cell_type": "code",
   "execution_count": 5,
   "id": "70ae8d16",
   "metadata": {
    "execution": {
     "iopub.execute_input": "2023-06-03T16:31:24.292040Z",
     "iopub.status.busy": "2023-06-03T16:31:24.291196Z",
     "iopub.status.idle": "2023-06-03T16:31:24.298074Z",
     "shell.execute_reply": "2023-06-03T16:31:24.296595Z"
    },
    "papermill": {
     "duration": 0.023871,
     "end_time": "2023-06-03T16:31:24.300487",
     "exception": false,
     "start_time": "2023-06-03T16:31:24.276616",
     "status": "completed"
    },
    "tags": []
   },
   "outputs": [
    {
     "name": "stdout",
     "output_type": "stream",
     "text": [
      "(617, 58)\n",
      "(617, 6)\n"
     ]
    }
   ],
   "source": [
    "print(df_train.shape)\n",
    "print(df_greek.shape)"
   ]
  },
  {
   "cell_type": "code",
   "execution_count": 6,
   "id": "750aafd1",
   "metadata": {
    "execution": {
     "iopub.execute_input": "2023-06-03T16:31:24.329013Z",
     "iopub.status.busy": "2023-06-03T16:31:24.328139Z",
     "iopub.status.idle": "2023-06-03T16:31:24.337306Z",
     "shell.execute_reply": "2023-06-03T16:31:24.336166Z"
    },
    "papermill": {
     "duration": 0.026625,
     "end_time": "2023-06-03T16:31:24.340055",
     "exception": false,
     "start_time": "2023-06-03T16:31:24.313430",
     "status": "completed"
    },
    "tags": []
   },
   "outputs": [],
   "source": [
    "df_train.dropna(inplace=True)"
   ]
  },
  {
   "cell_type": "code",
   "execution_count": 7,
   "id": "4dc2860b",
   "metadata": {
    "execution": {
     "iopub.execute_input": "2023-06-03T16:31:24.368529Z",
     "iopub.status.busy": "2023-06-03T16:31:24.368083Z",
     "iopub.status.idle": "2023-06-03T16:31:24.374308Z",
     "shell.execute_reply": "2023-06-03T16:31:24.372972Z"
    },
    "papermill": {
     "duration": 0.023974,
     "end_time": "2023-06-03T16:31:24.377497",
     "exception": false,
     "start_time": "2023-06-03T16:31:24.353523",
     "status": "completed"
    },
    "tags": []
   },
   "outputs": [
    {
     "name": "stdout",
     "output_type": "stream",
     "text": [
      "(548, 58)\n"
     ]
    }
   ],
   "source": [
    "print(df_train.shape)"
   ]
  },
  {
   "cell_type": "code",
   "execution_count": 8,
   "id": "d8ad4e2c",
   "metadata": {
    "execution": {
     "iopub.execute_input": "2023-06-03T16:31:24.406535Z",
     "iopub.status.busy": "2023-06-03T16:31:24.406054Z",
     "iopub.status.idle": "2023-06-03T16:31:24.420120Z",
     "shell.execute_reply": "2023-06-03T16:31:24.418683Z"
    },
    "papermill": {
     "duration": 0.032942,
     "end_time": "2023-06-03T16:31:24.423537",
     "exception": false,
     "start_time": "2023-06-03T16:31:24.390595",
     "status": "completed"
    },
    "tags": []
   },
   "outputs": [],
   "source": [
    "onehot = OneHotEncoder()\n",
    "ej_onehot = onehot.fit_transform(df_train[\"EJ\"].values.reshape(-1, 1)).toarray()"
   ]
  },
  {
   "cell_type": "code",
   "execution_count": 9,
   "id": "67ea998f",
   "metadata": {
    "execution": {
     "iopub.execute_input": "2023-06-03T16:31:24.452645Z",
     "iopub.status.busy": "2023-06-03T16:31:24.452257Z",
     "iopub.status.idle": "2023-06-03T16:31:24.458971Z",
     "shell.execute_reply": "2023-06-03T16:31:24.457911Z"
    },
    "papermill": {
     "duration": 0.024291,
     "end_time": "2023-06-03T16:31:24.461267",
     "exception": false,
     "start_time": "2023-06-03T16:31:24.436976",
     "status": "completed"
    },
    "tags": []
   },
   "outputs": [
    {
     "data": {
      "text/plain": [
       "548"
      ]
     },
     "execution_count": 9,
     "metadata": {},
     "output_type": "execute_result"
    }
   ],
   "source": [
    "len(ej_onehot)"
   ]
  },
  {
   "cell_type": "code",
   "execution_count": 10,
   "id": "42bbbe9e",
   "metadata": {
    "execution": {
     "iopub.execute_input": "2023-06-03T16:31:24.489785Z",
     "iopub.status.busy": "2023-06-03T16:31:24.489394Z",
     "iopub.status.idle": "2023-06-03T16:31:24.497088Z",
     "shell.execute_reply": "2023-06-03T16:31:24.495950Z"
    },
    "papermill": {
     "duration": 0.024969,
     "end_time": "2023-06-03T16:31:24.499366",
     "exception": false,
     "start_time": "2023-06-03T16:31:24.474397",
     "status": "completed"
    },
    "tags": []
   },
   "outputs": [],
   "source": [
    "X_train = df_train.drop(\"EJ\", axis=1)"
   ]
  },
  {
   "cell_type": "code",
   "execution_count": 11,
   "id": "446094a6",
   "metadata": {
    "execution": {
     "iopub.execute_input": "2023-06-03T16:31:24.527673Z",
     "iopub.status.busy": "2023-06-03T16:31:24.527276Z",
     "iopub.status.idle": "2023-06-03T16:31:24.532388Z",
     "shell.execute_reply": "2023-06-03T16:31:24.531123Z"
    },
    "papermill": {
     "duration": 0.02211,
     "end_time": "2023-06-03T16:31:24.534627",
     "exception": false,
     "start_time": "2023-06-03T16:31:24.512517",
     "status": "completed"
    },
    "tags": []
   },
   "outputs": [],
   "source": [
    "ej_df = pd.DataFrame(ej_onehot)"
   ]
  },
  {
   "cell_type": "code",
   "execution_count": 12,
   "id": "15de9a41",
   "metadata": {
    "execution": {
     "iopub.execute_input": "2023-06-03T16:31:24.563121Z",
     "iopub.status.busy": "2023-06-03T16:31:24.562662Z",
     "iopub.status.idle": "2023-06-03T16:31:24.567407Z",
     "shell.execute_reply": "2023-06-03T16:31:24.566505Z"
    },
    "papermill": {
     "duration": 0.021851,
     "end_time": "2023-06-03T16:31:24.569784",
     "exception": false,
     "start_time": "2023-06-03T16:31:24.547933",
     "status": "completed"
    },
    "tags": []
   },
   "outputs": [],
   "source": [
    "X_train.reset_index(drop=True, inplace=True)"
   ]
  },
  {
   "cell_type": "code",
   "execution_count": 13,
   "id": "b0a13af5",
   "metadata": {
    "execution": {
     "iopub.execute_input": "2023-06-03T16:31:24.599273Z",
     "iopub.status.busy": "2023-06-03T16:31:24.598866Z",
     "iopub.status.idle": "2023-06-03T16:31:24.612747Z",
     "shell.execute_reply": "2023-06-03T16:31:24.611674Z"
    },
    "papermill": {
     "duration": 0.03249,
     "end_time": "2023-06-03T16:31:24.615554",
     "exception": false,
     "start_time": "2023-06-03T16:31:24.583064",
     "status": "completed"
    },
    "tags": []
   },
   "outputs": [
    {
     "data": {
      "text/html": [
       "<div>\n",
       "<style scoped>\n",
       "    .dataframe tbody tr th:only-of-type {\n",
       "        vertical-align: middle;\n",
       "    }\n",
       "\n",
       "    .dataframe tbody tr th {\n",
       "        vertical-align: top;\n",
       "    }\n",
       "\n",
       "    .dataframe thead th {\n",
       "        text-align: right;\n",
       "    }\n",
       "</style>\n",
       "<table border=\"1\" class=\"dataframe\">\n",
       "  <thead>\n",
       "    <tr style=\"text-align: right;\">\n",
       "      <th></th>\n",
       "      <th>0</th>\n",
       "      <th>1</th>\n",
       "    </tr>\n",
       "  </thead>\n",
       "  <tbody>\n",
       "    <tr>\n",
       "      <th>0</th>\n",
       "      <td>0.0</td>\n",
       "      <td>1.0</td>\n",
       "    </tr>\n",
       "    <tr>\n",
       "      <th>1</th>\n",
       "      <td>1.0</td>\n",
       "      <td>0.0</td>\n",
       "    </tr>\n",
       "    <tr>\n",
       "      <th>2</th>\n",
       "      <td>0.0</td>\n",
       "      <td>1.0</td>\n",
       "    </tr>\n",
       "    <tr>\n",
       "      <th>3</th>\n",
       "      <td>0.0</td>\n",
       "      <td>1.0</td>\n",
       "    </tr>\n",
       "    <tr>\n",
       "      <th>4</th>\n",
       "      <td>0.0</td>\n",
       "      <td>1.0</td>\n",
       "    </tr>\n",
       "    <tr>\n",
       "      <th>...</th>\n",
       "      <td>...</td>\n",
       "      <td>...</td>\n",
       "    </tr>\n",
       "    <tr>\n",
       "      <th>543</th>\n",
       "      <td>1.0</td>\n",
       "      <td>0.0</td>\n",
       "    </tr>\n",
       "    <tr>\n",
       "      <th>544</th>\n",
       "      <td>1.0</td>\n",
       "      <td>0.0</td>\n",
       "    </tr>\n",
       "    <tr>\n",
       "      <th>545</th>\n",
       "      <td>0.0</td>\n",
       "      <td>1.0</td>\n",
       "    </tr>\n",
       "    <tr>\n",
       "      <th>546</th>\n",
       "      <td>1.0</td>\n",
       "      <td>0.0</td>\n",
       "    </tr>\n",
       "    <tr>\n",
       "      <th>547</th>\n",
       "      <td>1.0</td>\n",
       "      <td>0.0</td>\n",
       "    </tr>\n",
       "  </tbody>\n",
       "</table>\n",
       "<p>548 rows × 2 columns</p>\n",
       "</div>"
      ],
      "text/plain": [
       "       0    1\n",
       "0    0.0  1.0\n",
       "1    1.0  0.0\n",
       "2    0.0  1.0\n",
       "3    0.0  1.0\n",
       "4    0.0  1.0\n",
       "..   ...  ...\n",
       "543  1.0  0.0\n",
       "544  1.0  0.0\n",
       "545  0.0  1.0\n",
       "546  1.0  0.0\n",
       "547  1.0  0.0\n",
       "\n",
       "[548 rows x 2 columns]"
      ]
     },
     "execution_count": 13,
     "metadata": {},
     "output_type": "execute_result"
    }
   ],
   "source": [
    "ej_df"
   ]
  },
  {
   "cell_type": "code",
   "execution_count": 14,
   "id": "001b07c9",
   "metadata": {
    "execution": {
     "iopub.execute_input": "2023-06-03T16:31:24.644521Z",
     "iopub.status.busy": "2023-06-03T16:31:24.644094Z",
     "iopub.status.idle": "2023-06-03T16:31:24.650904Z",
     "shell.execute_reply": "2023-06-03T16:31:24.649741Z"
    },
    "papermill": {
     "duration": 0.024273,
     "end_time": "2023-06-03T16:31:24.653384",
     "exception": false,
     "start_time": "2023-06-03T16:31:24.629111",
     "status": "completed"
    },
    "tags": []
   },
   "outputs": [],
   "source": [
    "X_train = pd.concat([X_train, ej_df], ignore_index=True, axis=1)"
   ]
  },
  {
   "cell_type": "code",
   "execution_count": 15,
   "id": "74eb80a9",
   "metadata": {
    "execution": {
     "iopub.execute_input": "2023-06-03T16:31:24.683506Z",
     "iopub.status.busy": "2023-06-03T16:31:24.683098Z",
     "iopub.status.idle": "2023-06-03T16:31:24.692247Z",
     "shell.execute_reply": "2023-06-03T16:31:24.691365Z"
    },
    "papermill": {
     "duration": 0.027063,
     "end_time": "2023-06-03T16:31:24.694485",
     "exception": false,
     "start_time": "2023-06-03T16:31:24.667422",
     "status": "completed"
    },
    "tags": []
   },
   "outputs": [
    {
     "data": {
      "text/plain": [
       "0      1\n",
       "1      0\n",
       "2      0\n",
       "3      0\n",
       "4      1\n",
       "      ..\n",
       "543    0\n",
       "544    0\n",
       "545    0\n",
       "546    0\n",
       "547    0\n",
       "Name: 56, Length: 548, dtype: int64"
      ]
     },
     "execution_count": 15,
     "metadata": {},
     "output_type": "execute_result"
    }
   ],
   "source": [
    "X_train.iloc[:, 56]"
   ]
  },
  {
   "cell_type": "code",
   "execution_count": 16,
   "id": "7c77fa02",
   "metadata": {
    "execution": {
     "iopub.execute_input": "2023-06-03T16:31:24.724102Z",
     "iopub.status.busy": "2023-06-03T16:31:24.723371Z",
     "iopub.status.idle": "2023-06-03T16:31:24.729930Z",
     "shell.execute_reply": "2023-06-03T16:31:24.728795Z"
    },
    "papermill": {
     "duration": 0.024521,
     "end_time": "2023-06-03T16:31:24.732691",
     "exception": false,
     "start_time": "2023-06-03T16:31:24.708170",
     "status": "completed"
    },
    "tags": []
   },
   "outputs": [],
   "source": [
    "y_train = X_train[56]\n",
    "X_train.drop(56, axis=1, inplace=True)"
   ]
  },
  {
   "cell_type": "code",
   "execution_count": 17,
   "id": "d4ab9a57",
   "metadata": {
    "execution": {
     "iopub.execute_input": "2023-06-03T16:31:24.762736Z",
     "iopub.status.busy": "2023-06-03T16:31:24.762302Z",
     "iopub.status.idle": "2023-06-03T16:31:24.767636Z",
     "shell.execute_reply": "2023-06-03T16:31:24.766503Z"
    },
    "papermill": {
     "duration": 0.022946,
     "end_time": "2023-06-03T16:31:24.770020",
     "exception": false,
     "start_time": "2023-06-03T16:31:24.747074",
     "status": "completed"
    },
    "tags": []
   },
   "outputs": [],
   "source": [
    "X_train = X_train.iloc[:, 1:]"
   ]
  },
  {
   "cell_type": "code",
   "execution_count": 18,
   "id": "37b36bc6",
   "metadata": {
    "execution": {
     "iopub.execute_input": "2023-06-03T16:31:24.799022Z",
     "iopub.status.busy": "2023-06-03T16:31:24.798515Z",
     "iopub.status.idle": "2023-06-03T16:31:24.838965Z",
     "shell.execute_reply": "2023-06-03T16:31:24.837452Z"
    },
    "papermill": {
     "duration": 0.059795,
     "end_time": "2023-06-03T16:31:24.843269",
     "exception": false,
     "start_time": "2023-06-03T16:31:24.783474",
     "status": "completed"
    },
    "tags": []
   },
   "outputs": [
    {
     "data": {
      "text/plain": [
       "array([4.03812671e+08, 1.36695159e+08, 6.44303145e+07, 1.29036899e+07,\n",
       "       5.03220306e+06, 2.95462869e+06, 1.94790180e+06, 1.76394338e+05,\n",
       "       9.58522867e+04, 3.54172337e+04, 3.07331438e+04, 2.29826063e+04,\n",
       "       1.55939465e+04, 1.48514831e+04, 8.34916403e+03, 6.36107665e+03,\n",
       "       4.61204305e+03, 3.35769236e+03, 2.81590661e+03, 2.03165165e+03,\n",
       "       1.57757600e+03, 1.18143743e+03, 1.07851286e+03, 6.84462462e+02,\n",
       "       6.05829560e+02, 3.41912380e+02, 2.92706955e+02, 1.87935727e+02,\n",
       "       1.15231254e+02, 9.78097899e+01, 8.63609128e+01, 6.51443388e+01,\n",
       "       5.97651670e+01, 4.32811611e+01, 3.73982425e+01, 2.21544068e+01,\n",
       "       1.46477108e+01, 1.14781001e+01, 1.06515968e+01, 8.92448190e+00,\n",
       "       6.57108446e+00, 3.52390137e+00, 2.88910957e+00, 1.76200658e+00,\n",
       "       1.63713009e+00, 1.21246365e+00, 1.85134634e-01, 1.30366894e-01,\n",
       "       9.72522523e-02, 7.96784883e-02, 5.15996856e-02, 3.84983363e-02,\n",
       "       1.73425925e-02, 7.08526035e-03, 5.90075556e-05, 3.73205527e-24])"
      ]
     },
     "execution_count": 18,
     "metadata": {},
     "output_type": "execute_result"
    }
   ],
   "source": [
    "pca = PCA(n_components=None)\n",
    "X_train_trans = pca.fit_transform(X_train.iloc[:, 1:])\n",
    "pca.explained_variance_"
   ]
  },
  {
   "cell_type": "code",
   "execution_count": 19,
   "id": "46708370",
   "metadata": {
    "execution": {
     "iopub.execute_input": "2023-06-03T16:31:24.903940Z",
     "iopub.status.busy": "2023-06-03T16:31:24.903226Z",
     "iopub.status.idle": "2023-06-03T16:31:24.910699Z",
     "shell.execute_reply": "2023-06-03T16:31:24.909215Z"
    },
    "papermill": {
     "duration": 0.043081,
     "end_time": "2023-06-03T16:31:24.914862",
     "exception": false,
     "start_time": "2023-06-03T16:31:24.871781",
     "status": "completed"
    },
    "tags": []
   },
   "outputs": [],
   "source": [
    "explained_var = pca.explained_variance_"
   ]
  },
  {
   "cell_type": "code",
   "execution_count": 20,
   "id": "2d5e41c4",
   "metadata": {
    "execution": {
     "iopub.execute_input": "2023-06-03T16:31:24.964823Z",
     "iopub.status.busy": "2023-06-03T16:31:24.964422Z",
     "iopub.status.idle": "2023-06-03T16:31:24.969790Z",
     "shell.execute_reply": "2023-06-03T16:31:24.968847Z"
    },
    "papermill": {
     "duration": 0.024366,
     "end_time": "2023-06-03T16:31:24.972043",
     "exception": false,
     "start_time": "2023-06-03T16:31:24.947677",
     "status": "completed"
    },
    "tags": []
   },
   "outputs": [],
   "source": [
    "pipe_lr = make_pipeline(StandardScaler(), PCA(n_components=40), LogisticRegression(random_state=1, solver='lbfgs'))"
   ]
  },
  {
   "cell_type": "code",
   "execution_count": 21,
   "id": "5d92e784",
   "metadata": {
    "execution": {
     "iopub.execute_input": "2023-06-03T16:31:25.003351Z",
     "iopub.status.busy": "2023-06-03T16:31:25.002548Z",
     "iopub.status.idle": "2023-06-03T16:31:25.012931Z",
     "shell.execute_reply": "2023-06-03T16:31:25.011753Z"
    },
    "papermill": {
     "duration": 0.029879,
     "end_time": "2023-06-03T16:31:25.015667",
     "exception": false,
     "start_time": "2023-06-03T16:31:24.985788",
     "status": "completed"
    },
    "tags": []
   },
   "outputs": [
    {
     "data": {
      "text/plain": [
       "array([1, 0, 0, 0, 1, 0, 0, 0, 0, 1, 0, 0, 1, 0, 0, 0, 0, 0, 0, 0, 0, 0,\n",
       "       0, 0, 0, 0, 1, 1, 0, 0, 0, 1, 0, 0, 0, 0, 1, 0, 0, 0, 0, 1, 0, 0,\n",
       "       0, 0, 0, 0, 0, 0, 0, 0, 0, 0, 0, 0, 0, 0, 0, 0, 0, 0, 0, 0, 0, 1,\n",
       "       1, 0, 0, 1, 0, 0, 0, 0, 0, 0, 0, 0, 0, 0, 1, 0, 1, 0, 1, 1, 0, 0,\n",
       "       0, 0, 0, 0, 0, 0, 0, 0, 0, 0, 1, 0, 0, 0, 0, 0, 0, 0, 1, 0, 0, 0,\n",
       "       0, 0, 0, 1, 0, 0, 1, 0, 0, 1, 0, 0, 0, 0, 0, 0, 0, 0, 0, 0, 1, 1,\n",
       "       0, 0, 0, 1, 0, 0, 0, 1, 0, 0, 0, 0, 1, 0, 1, 0, 0, 1, 0, 0, 0, 0,\n",
       "       0, 0, 0, 0, 0, 0, 0, 0, 1, 0, 0, 0, 0, 1, 0, 0, 1, 0, 0, 0, 1, 0,\n",
       "       0, 0, 0, 0, 0, 0, 0, 0, 0, 0, 0, 0, 0, 0, 0, 0, 0, 0, 0, 0, 0, 0,\n",
       "       1, 0, 0, 0, 0, 0, 0, 0, 0, 0, 0, 1, 0, 1, 0, 0, 1, 0, 0, 0, 0, 0,\n",
       "       0, 0, 0, 0, 1, 0, 0, 0, 0, 0, 1, 0, 1, 1, 0, 1, 1, 1, 1, 1, 0, 0,\n",
       "       0, 0, 1, 1, 0, 0, 0, 0, 1, 0, 0, 0, 1, 1, 0, 0, 0, 1, 0, 0, 0, 0,\n",
       "       0, 1, 1, 0, 0, 0, 1, 0, 0, 0, 0, 0, 1, 0, 0, 0, 1, 0, 0, 0, 0, 0,\n",
       "       1, 0, 0, 0, 0, 0, 0, 0, 0, 0, 0, 0, 0, 0, 0, 0, 0, 0, 1, 0, 0, 0,\n",
       "       1, 0, 0, 0, 0, 0, 0, 0, 1, 0, 0, 0, 0, 0, 0, 0, 1, 0, 1, 0, 0, 0,\n",
       "       0, 0, 1, 0, 0, 0, 0, 0, 0, 0, 0, 1, 0, 0, 0, 1, 0, 0, 0, 0, 0, 0,\n",
       "       0, 0, 0, 0, 0, 0, 0, 0, 1, 0, 1, 0, 0, 0, 1, 1, 0, 1, 0, 0, 0, 0,\n",
       "       0, 1, 1, 0, 1, 0, 0, 0, 0, 0, 0, 0, 1, 1, 0, 1, 0, 0, 0, 0, 0, 0,\n",
       "       0, 0, 0, 0, 0, 0, 0, 0, 0, 0, 0, 0, 0, 0, 0, 0, 0, 0, 0, 0, 0, 0,\n",
       "       1, 0, 1, 0, 0, 0, 0, 0, 0, 0, 1, 0, 0, 0, 0, 0, 0, 1, 1, 0, 0, 0,\n",
       "       1, 1, 0, 0, 0, 0, 0, 1, 0, 0, 0, 0, 0, 0, 0, 1, 0, 1, 0, 0, 0, 0,\n",
       "       1, 0, 0, 0, 0, 0, 0, 0, 1, 0, 0, 1, 0, 0, 0, 0, 0, 1, 1, 0, 0, 0,\n",
       "       0, 0, 0, 0, 1, 0, 1, 0, 0, 0, 0, 0, 0, 1, 0, 0, 0, 1, 0, 0, 1, 1,\n",
       "       0, 0, 0, 0, 0, 0, 0, 0, 1, 0, 0, 0, 0, 0, 1, 0, 0, 1, 0, 0, 0, 1,\n",
       "       0, 0, 0, 0, 0, 0, 0, 0, 0, 0, 0, 0, 1, 0, 0, 0, 0, 0, 0, 0])"
      ]
     },
     "execution_count": 21,
     "metadata": {},
     "output_type": "execute_result"
    }
   ],
   "source": [
    "y_train.values.flatten()"
   ]
  },
  {
   "cell_type": "code",
   "execution_count": 22,
   "id": "84a0dd08",
   "metadata": {
    "execution": {
     "iopub.execute_input": "2023-06-03T16:31:25.046093Z",
     "iopub.status.busy": "2023-06-03T16:31:25.045276Z",
     "iopub.status.idle": "2023-06-03T16:31:25.238126Z",
     "shell.execute_reply": "2023-06-03T16:31:25.236606Z"
    },
    "papermill": {
     "duration": 0.213674,
     "end_time": "2023-06-03T16:31:25.243209",
     "exception": false,
     "start_time": "2023-06-03T16:31:25.029535",
     "status": "completed"
    },
    "tags": []
   },
   "outputs": [
    {
     "data": {
      "text/html": [
       "<style>#sk-container-id-1 {color: black;background-color: white;}#sk-container-id-1 pre{padding: 0;}#sk-container-id-1 div.sk-toggleable {background-color: white;}#sk-container-id-1 label.sk-toggleable__label {cursor: pointer;display: block;width: 100%;margin-bottom: 0;padding: 0.3em;box-sizing: border-box;text-align: center;}#sk-container-id-1 label.sk-toggleable__label-arrow:before {content: \"▸\";float: left;margin-right: 0.25em;color: #696969;}#sk-container-id-1 label.sk-toggleable__label-arrow:hover:before {color: black;}#sk-container-id-1 div.sk-estimator:hover label.sk-toggleable__label-arrow:before {color: black;}#sk-container-id-1 div.sk-toggleable__content {max-height: 0;max-width: 0;overflow: hidden;text-align: left;background-color: #f0f8ff;}#sk-container-id-1 div.sk-toggleable__content pre {margin: 0.2em;color: black;border-radius: 0.25em;background-color: #f0f8ff;}#sk-container-id-1 input.sk-toggleable__control:checked~div.sk-toggleable__content {max-height: 200px;max-width: 100%;overflow: auto;}#sk-container-id-1 input.sk-toggleable__control:checked~label.sk-toggleable__label-arrow:before {content: \"▾\";}#sk-container-id-1 div.sk-estimator input.sk-toggleable__control:checked~label.sk-toggleable__label {background-color: #d4ebff;}#sk-container-id-1 div.sk-label input.sk-toggleable__control:checked~label.sk-toggleable__label {background-color: #d4ebff;}#sk-container-id-1 input.sk-hidden--visually {border: 0;clip: rect(1px 1px 1px 1px);clip: rect(1px, 1px, 1px, 1px);height: 1px;margin: -1px;overflow: hidden;padding: 0;position: absolute;width: 1px;}#sk-container-id-1 div.sk-estimator {font-family: monospace;background-color: #f0f8ff;border: 1px dotted black;border-radius: 0.25em;box-sizing: border-box;margin-bottom: 0.5em;}#sk-container-id-1 div.sk-estimator:hover {background-color: #d4ebff;}#sk-container-id-1 div.sk-parallel-item::after {content: \"\";width: 100%;border-bottom: 1px solid gray;flex-grow: 1;}#sk-container-id-1 div.sk-label:hover label.sk-toggleable__label {background-color: #d4ebff;}#sk-container-id-1 div.sk-serial::before {content: \"\";position: absolute;border-left: 1px solid gray;box-sizing: border-box;top: 0;bottom: 0;left: 50%;z-index: 0;}#sk-container-id-1 div.sk-serial {display: flex;flex-direction: column;align-items: center;background-color: white;padding-right: 0.2em;padding-left: 0.2em;position: relative;}#sk-container-id-1 div.sk-item {position: relative;z-index: 1;}#sk-container-id-1 div.sk-parallel {display: flex;align-items: stretch;justify-content: center;background-color: white;position: relative;}#sk-container-id-1 div.sk-item::before, #sk-container-id-1 div.sk-parallel-item::before {content: \"\";position: absolute;border-left: 1px solid gray;box-sizing: border-box;top: 0;bottom: 0;left: 50%;z-index: -1;}#sk-container-id-1 div.sk-parallel-item {display: flex;flex-direction: column;z-index: 1;position: relative;background-color: white;}#sk-container-id-1 div.sk-parallel-item:first-child::after {align-self: flex-end;width: 50%;}#sk-container-id-1 div.sk-parallel-item:last-child::after {align-self: flex-start;width: 50%;}#sk-container-id-1 div.sk-parallel-item:only-child::after {width: 0;}#sk-container-id-1 div.sk-dashed-wrapped {border: 1px dashed gray;margin: 0 0.4em 0.5em 0.4em;box-sizing: border-box;padding-bottom: 0.4em;background-color: white;}#sk-container-id-1 div.sk-label label {font-family: monospace;font-weight: bold;display: inline-block;line-height: 1.2em;}#sk-container-id-1 div.sk-label-container {text-align: center;}#sk-container-id-1 div.sk-container {/* jupyter's `normalize.less` sets `[hidden] { display: none; }` but bootstrap.min.css set `[hidden] { display: none !important; }` so we also need the `!important` here to be able to override the default hidden behavior on the sphinx rendered scikit-learn.org. See: https://github.com/scikit-learn/scikit-learn/issues/21755 */display: inline-block !important;position: relative;}#sk-container-id-1 div.sk-text-repr-fallback {display: none;}</style><div id=\"sk-container-id-1\" class=\"sk-top-container\"><div class=\"sk-text-repr-fallback\"><pre>Pipeline(steps=[(&#x27;standardscaler&#x27;, StandardScaler()),\n",
       "                (&#x27;pca&#x27;, PCA(n_components=40)),\n",
       "                (&#x27;logisticregression&#x27;, LogisticRegression(random_state=1))])</pre><b>In a Jupyter environment, please rerun this cell to show the HTML representation or trust the notebook. <br />On GitHub, the HTML representation is unable to render, please try loading this page with nbviewer.org.</b></div><div class=\"sk-container\" hidden><div class=\"sk-item sk-dashed-wrapped\"><div class=\"sk-label-container\"><div class=\"sk-label sk-toggleable\"><input class=\"sk-toggleable__control sk-hidden--visually\" id=\"sk-estimator-id-1\" type=\"checkbox\" ><label for=\"sk-estimator-id-1\" class=\"sk-toggleable__label sk-toggleable__label-arrow\">Pipeline</label><div class=\"sk-toggleable__content\"><pre>Pipeline(steps=[(&#x27;standardscaler&#x27;, StandardScaler()),\n",
       "                (&#x27;pca&#x27;, PCA(n_components=40)),\n",
       "                (&#x27;logisticregression&#x27;, LogisticRegression(random_state=1))])</pre></div></div></div><div class=\"sk-serial\"><div class=\"sk-item\"><div class=\"sk-estimator sk-toggleable\"><input class=\"sk-toggleable__control sk-hidden--visually\" id=\"sk-estimator-id-2\" type=\"checkbox\" ><label for=\"sk-estimator-id-2\" class=\"sk-toggleable__label sk-toggleable__label-arrow\">StandardScaler</label><div class=\"sk-toggleable__content\"><pre>StandardScaler()</pre></div></div></div><div class=\"sk-item\"><div class=\"sk-estimator sk-toggleable\"><input class=\"sk-toggleable__control sk-hidden--visually\" id=\"sk-estimator-id-3\" type=\"checkbox\" ><label for=\"sk-estimator-id-3\" class=\"sk-toggleable__label sk-toggleable__label-arrow\">PCA</label><div class=\"sk-toggleable__content\"><pre>PCA(n_components=40)</pre></div></div></div><div class=\"sk-item\"><div class=\"sk-estimator sk-toggleable\"><input class=\"sk-toggleable__control sk-hidden--visually\" id=\"sk-estimator-id-4\" type=\"checkbox\" ><label for=\"sk-estimator-id-4\" class=\"sk-toggleable__label sk-toggleable__label-arrow\">LogisticRegression</label><div class=\"sk-toggleable__content\"><pre>LogisticRegression(random_state=1)</pre></div></div></div></div></div></div></div>"
      ],
      "text/plain": [
       "Pipeline(steps=[('standardscaler', StandardScaler()),\n",
       "                ('pca', PCA(n_components=40)),\n",
       "                ('logisticregression', LogisticRegression(random_state=1))])"
      ]
     },
     "execution_count": 22,
     "metadata": {},
     "output_type": "execute_result"
    }
   ],
   "source": [
    "pipe_lr.fit(X_train, y_train.values.flatten())"
   ]
  },
  {
   "cell_type": "code",
   "execution_count": 23,
   "id": "bb2db476",
   "metadata": {
    "execution": {
     "iopub.execute_input": "2023-06-03T16:31:25.303484Z",
     "iopub.status.busy": "2023-06-03T16:31:25.302754Z",
     "iopub.status.idle": "2023-06-03T16:31:25.318825Z",
     "shell.execute_reply": "2023-06-03T16:31:25.317974Z"
    },
    "papermill": {
     "duration": 0.051691,
     "end_time": "2023-06-03T16:31:25.321920",
     "exception": false,
     "start_time": "2023-06-03T16:31:25.270229",
     "status": "completed"
    },
    "tags": []
   },
   "outputs": [],
   "source": [
    "df_test = pd.read_csv(\"/kaggle/input/icr-identify-age-related-conditions/test.csv\")"
   ]
  },
  {
   "cell_type": "code",
   "execution_count": 24,
   "id": "1082600e",
   "metadata": {
    "execution": {
     "iopub.execute_input": "2023-06-03T16:31:25.352961Z",
     "iopub.status.busy": "2023-06-03T16:31:25.352193Z",
     "iopub.status.idle": "2023-06-03T16:31:25.386032Z",
     "shell.execute_reply": "2023-06-03T16:31:25.384894Z"
    },
    "papermill": {
     "duration": 0.052428,
     "end_time": "2023-06-03T16:31:25.388666",
     "exception": false,
     "start_time": "2023-06-03T16:31:25.336238",
     "status": "completed"
    },
    "tags": []
   },
   "outputs": [
    {
     "data": {
      "text/html": [
       "<div>\n",
       "<style scoped>\n",
       "    .dataframe tbody tr th:only-of-type {\n",
       "        vertical-align: middle;\n",
       "    }\n",
       "\n",
       "    .dataframe tbody tr th {\n",
       "        vertical-align: top;\n",
       "    }\n",
       "\n",
       "    .dataframe thead th {\n",
       "        text-align: right;\n",
       "    }\n",
       "</style>\n",
       "<table border=\"1\" class=\"dataframe\">\n",
       "  <thead>\n",
       "    <tr style=\"text-align: right;\">\n",
       "      <th></th>\n",
       "      <th>Id</th>\n",
       "      <th>AB</th>\n",
       "      <th>AF</th>\n",
       "      <th>AH</th>\n",
       "      <th>AM</th>\n",
       "      <th>AR</th>\n",
       "      <th>AX</th>\n",
       "      <th>AY</th>\n",
       "      <th>AZ</th>\n",
       "      <th>BC</th>\n",
       "      <th>...</th>\n",
       "      <th>FI</th>\n",
       "      <th>FL</th>\n",
       "      <th>FR</th>\n",
       "      <th>FS</th>\n",
       "      <th>GB</th>\n",
       "      <th>GE</th>\n",
       "      <th>GF</th>\n",
       "      <th>GH</th>\n",
       "      <th>GI</th>\n",
       "      <th>GL</th>\n",
       "    </tr>\n",
       "  </thead>\n",
       "  <tbody>\n",
       "    <tr>\n",
       "      <th>0</th>\n",
       "      <td>00eed32682bb</td>\n",
       "      <td>0.0</td>\n",
       "      <td>0.0</td>\n",
       "      <td>0.0</td>\n",
       "      <td>0.0</td>\n",
       "      <td>0.0</td>\n",
       "      <td>0.0</td>\n",
       "      <td>0.0</td>\n",
       "      <td>0.0</td>\n",
       "      <td>0.0</td>\n",
       "      <td>...</td>\n",
       "      <td>0.0</td>\n",
       "      <td>0.0</td>\n",
       "      <td>0.0</td>\n",
       "      <td>0.0</td>\n",
       "      <td>0.0</td>\n",
       "      <td>0.0</td>\n",
       "      <td>0.0</td>\n",
       "      <td>0.0</td>\n",
       "      <td>0.0</td>\n",
       "      <td>0.0</td>\n",
       "    </tr>\n",
       "    <tr>\n",
       "      <th>1</th>\n",
       "      <td>010ebe33f668</td>\n",
       "      <td>0.0</td>\n",
       "      <td>0.0</td>\n",
       "      <td>0.0</td>\n",
       "      <td>0.0</td>\n",
       "      <td>0.0</td>\n",
       "      <td>0.0</td>\n",
       "      <td>0.0</td>\n",
       "      <td>0.0</td>\n",
       "      <td>0.0</td>\n",
       "      <td>...</td>\n",
       "      <td>0.0</td>\n",
       "      <td>0.0</td>\n",
       "      <td>0.0</td>\n",
       "      <td>0.0</td>\n",
       "      <td>0.0</td>\n",
       "      <td>0.0</td>\n",
       "      <td>0.0</td>\n",
       "      <td>0.0</td>\n",
       "      <td>0.0</td>\n",
       "      <td>0.0</td>\n",
       "    </tr>\n",
       "    <tr>\n",
       "      <th>2</th>\n",
       "      <td>02fa521e1838</td>\n",
       "      <td>0.0</td>\n",
       "      <td>0.0</td>\n",
       "      <td>0.0</td>\n",
       "      <td>0.0</td>\n",
       "      <td>0.0</td>\n",
       "      <td>0.0</td>\n",
       "      <td>0.0</td>\n",
       "      <td>0.0</td>\n",
       "      <td>0.0</td>\n",
       "      <td>...</td>\n",
       "      <td>0.0</td>\n",
       "      <td>0.0</td>\n",
       "      <td>0.0</td>\n",
       "      <td>0.0</td>\n",
       "      <td>0.0</td>\n",
       "      <td>0.0</td>\n",
       "      <td>0.0</td>\n",
       "      <td>0.0</td>\n",
       "      <td>0.0</td>\n",
       "      <td>0.0</td>\n",
       "    </tr>\n",
       "    <tr>\n",
       "      <th>3</th>\n",
       "      <td>040e15f562a2</td>\n",
       "      <td>0.0</td>\n",
       "      <td>0.0</td>\n",
       "      <td>0.0</td>\n",
       "      <td>0.0</td>\n",
       "      <td>0.0</td>\n",
       "      <td>0.0</td>\n",
       "      <td>0.0</td>\n",
       "      <td>0.0</td>\n",
       "      <td>0.0</td>\n",
       "      <td>...</td>\n",
       "      <td>0.0</td>\n",
       "      <td>0.0</td>\n",
       "      <td>0.0</td>\n",
       "      <td>0.0</td>\n",
       "      <td>0.0</td>\n",
       "      <td>0.0</td>\n",
       "      <td>0.0</td>\n",
       "      <td>0.0</td>\n",
       "      <td>0.0</td>\n",
       "      <td>0.0</td>\n",
       "    </tr>\n",
       "    <tr>\n",
       "      <th>4</th>\n",
       "      <td>046e85c7cc7f</td>\n",
       "      <td>0.0</td>\n",
       "      <td>0.0</td>\n",
       "      <td>0.0</td>\n",
       "      <td>0.0</td>\n",
       "      <td>0.0</td>\n",
       "      <td>0.0</td>\n",
       "      <td>0.0</td>\n",
       "      <td>0.0</td>\n",
       "      <td>0.0</td>\n",
       "      <td>...</td>\n",
       "      <td>0.0</td>\n",
       "      <td>0.0</td>\n",
       "      <td>0.0</td>\n",
       "      <td>0.0</td>\n",
       "      <td>0.0</td>\n",
       "      <td>0.0</td>\n",
       "      <td>0.0</td>\n",
       "      <td>0.0</td>\n",
       "      <td>0.0</td>\n",
       "      <td>0.0</td>\n",
       "    </tr>\n",
       "  </tbody>\n",
       "</table>\n",
       "<p>5 rows × 57 columns</p>\n",
       "</div>"
      ],
      "text/plain": [
       "             Id   AB   AF   AH   AM   AR   AX   AY   AZ   BC  ...   FI   FL  \\\n",
       "0  00eed32682bb  0.0  0.0  0.0  0.0  0.0  0.0  0.0  0.0  0.0  ...  0.0  0.0   \n",
       "1  010ebe33f668  0.0  0.0  0.0  0.0  0.0  0.0  0.0  0.0  0.0  ...  0.0  0.0   \n",
       "2  02fa521e1838  0.0  0.0  0.0  0.0  0.0  0.0  0.0  0.0  0.0  ...  0.0  0.0   \n",
       "3  040e15f562a2  0.0  0.0  0.0  0.0  0.0  0.0  0.0  0.0  0.0  ...  0.0  0.0   \n",
       "4  046e85c7cc7f  0.0  0.0  0.0  0.0  0.0  0.0  0.0  0.0  0.0  ...  0.0  0.0   \n",
       "\n",
       "    FR   FS   GB   GE   GF   GH   GI   GL  \n",
       "0  0.0  0.0  0.0  0.0  0.0  0.0  0.0  0.0  \n",
       "1  0.0  0.0  0.0  0.0  0.0  0.0  0.0  0.0  \n",
       "2  0.0  0.0  0.0  0.0  0.0  0.0  0.0  0.0  \n",
       "3  0.0  0.0  0.0  0.0  0.0  0.0  0.0  0.0  \n",
       "4  0.0  0.0  0.0  0.0  0.0  0.0  0.0  0.0  \n",
       "\n",
       "[5 rows x 57 columns]"
      ]
     },
     "execution_count": 24,
     "metadata": {},
     "output_type": "execute_result"
    }
   ],
   "source": [
    "df_test"
   ]
  },
  {
   "cell_type": "code",
   "execution_count": 25,
   "id": "0867871e",
   "metadata": {
    "execution": {
     "iopub.execute_input": "2023-06-03T16:31:25.420605Z",
     "iopub.status.busy": "2023-06-03T16:31:25.420188Z",
     "iopub.status.idle": "2023-06-03T16:31:25.426743Z",
     "shell.execute_reply": "2023-06-03T16:31:25.425543Z"
    },
    "papermill": {
     "duration": 0.026317,
     "end_time": "2023-06-03T16:31:25.429424",
     "exception": false,
     "start_time": "2023-06-03T16:31:25.403107",
     "status": "completed"
    },
    "tags": []
   },
   "outputs": [],
   "source": [
    "onehot = OneHotEncoder()\n",
    "ej_onehot = onehot.fit_transform(df_test[\"EJ\"].values.reshape(-1, 1)).toarray()"
   ]
  },
  {
   "cell_type": "code",
   "execution_count": 26,
   "id": "d58901a5",
   "metadata": {
    "execution": {
     "iopub.execute_input": "2023-06-03T16:31:25.461115Z",
     "iopub.status.busy": "2023-06-03T16:31:25.460299Z",
     "iopub.status.idle": "2023-06-03T16:31:25.466370Z",
     "shell.execute_reply": "2023-06-03T16:31:25.465566Z"
    },
    "papermill": {
     "duration": 0.024793,
     "end_time": "2023-06-03T16:31:25.468794",
     "exception": false,
     "start_time": "2023-06-03T16:31:25.444001",
     "status": "completed"
    },
    "tags": []
   },
   "outputs": [],
   "source": [
    "X_test = df_test.drop(\"EJ\", axis=1)"
   ]
  },
  {
   "cell_type": "code",
   "execution_count": 27,
   "id": "cf95159f",
   "metadata": {
    "execution": {
     "iopub.execute_input": "2023-06-03T16:31:25.500063Z",
     "iopub.status.busy": "2023-06-03T16:31:25.499602Z",
     "iopub.status.idle": "2023-06-03T16:31:25.504663Z",
     "shell.execute_reply": "2023-06-03T16:31:25.503429Z"
    },
    "papermill": {
     "duration": 0.023827,
     "end_time": "2023-06-03T16:31:25.507207",
     "exception": false,
     "start_time": "2023-06-03T16:31:25.483380",
     "status": "completed"
    },
    "tags": []
   },
   "outputs": [],
   "source": [
    "ej_df = pd.DataFrame(ej_onehot)"
   ]
  },
  {
   "cell_type": "code",
   "execution_count": 28,
   "id": "63437b93",
   "metadata": {
    "execution": {
     "iopub.execute_input": "2023-06-03T16:31:25.538570Z",
     "iopub.status.busy": "2023-06-03T16:31:25.537736Z",
     "iopub.status.idle": "2023-06-03T16:31:25.542513Z",
     "shell.execute_reply": "2023-06-03T16:31:25.541708Z"
    },
    "papermill": {
     "duration": 0.022737,
     "end_time": "2023-06-03T16:31:25.544595",
     "exception": false,
     "start_time": "2023-06-03T16:31:25.521858",
     "status": "completed"
    },
    "tags": []
   },
   "outputs": [],
   "source": [
    "if len(ej_df.columns) < 3:\n",
    "    ej_df[1] = 0"
   ]
  },
  {
   "cell_type": "code",
   "execution_count": 29,
   "id": "c9e51519",
   "metadata": {
    "execution": {
     "iopub.execute_input": "2023-06-03T16:31:25.576212Z",
     "iopub.status.busy": "2023-06-03T16:31:25.575745Z",
     "iopub.status.idle": "2023-06-03T16:31:25.586507Z",
     "shell.execute_reply": "2023-06-03T16:31:25.585393Z"
    },
    "papermill": {
     "duration": 0.029785,
     "end_time": "2023-06-03T16:31:25.588811",
     "exception": false,
     "start_time": "2023-06-03T16:31:25.559026",
     "status": "completed"
    },
    "tags": []
   },
   "outputs": [
    {
     "data": {
      "text/html": [
       "<div>\n",
       "<style scoped>\n",
       "    .dataframe tbody tr th:only-of-type {\n",
       "        vertical-align: middle;\n",
       "    }\n",
       "\n",
       "    .dataframe tbody tr th {\n",
       "        vertical-align: top;\n",
       "    }\n",
       "\n",
       "    .dataframe thead th {\n",
       "        text-align: right;\n",
       "    }\n",
       "</style>\n",
       "<table border=\"1\" class=\"dataframe\">\n",
       "  <thead>\n",
       "    <tr style=\"text-align: right;\">\n",
       "      <th></th>\n",
       "      <th>0</th>\n",
       "      <th>1</th>\n",
       "    </tr>\n",
       "  </thead>\n",
       "  <tbody>\n",
       "    <tr>\n",
       "      <th>0</th>\n",
       "      <td>1.0</td>\n",
       "      <td>0</td>\n",
       "    </tr>\n",
       "    <tr>\n",
       "      <th>1</th>\n",
       "      <td>1.0</td>\n",
       "      <td>0</td>\n",
       "    </tr>\n",
       "    <tr>\n",
       "      <th>2</th>\n",
       "      <td>1.0</td>\n",
       "      <td>0</td>\n",
       "    </tr>\n",
       "    <tr>\n",
       "      <th>3</th>\n",
       "      <td>1.0</td>\n",
       "      <td>0</td>\n",
       "    </tr>\n",
       "    <tr>\n",
       "      <th>4</th>\n",
       "      <td>1.0</td>\n",
       "      <td>0</td>\n",
       "    </tr>\n",
       "  </tbody>\n",
       "</table>\n",
       "</div>"
      ],
      "text/plain": [
       "     0  1\n",
       "0  1.0  0\n",
       "1  1.0  0\n",
       "2  1.0  0\n",
       "3  1.0  0\n",
       "4  1.0  0"
      ]
     },
     "execution_count": 29,
     "metadata": {},
     "output_type": "execute_result"
    }
   ],
   "source": [
    "ej_df"
   ]
  },
  {
   "cell_type": "code",
   "execution_count": 30,
   "id": "8a029bec",
   "metadata": {
    "execution": {
     "iopub.execute_input": "2023-06-03T16:31:25.621179Z",
     "iopub.status.busy": "2023-06-03T16:31:25.620223Z",
     "iopub.status.idle": "2023-06-03T16:31:25.625725Z",
     "shell.execute_reply": "2023-06-03T16:31:25.624469Z"
    },
    "papermill": {
     "duration": 0.024808,
     "end_time": "2023-06-03T16:31:25.628820",
     "exception": false,
     "start_time": "2023-06-03T16:31:25.604012",
     "status": "completed"
    },
    "tags": []
   },
   "outputs": [],
   "source": [
    "X_test.reset_index(drop=True, inplace=True)"
   ]
  },
  {
   "cell_type": "code",
   "execution_count": 31,
   "id": "d59f7d88",
   "metadata": {
    "execution": {
     "iopub.execute_input": "2023-06-03T16:31:25.663350Z",
     "iopub.status.busy": "2023-06-03T16:31:25.662376Z",
     "iopub.status.idle": "2023-06-03T16:31:25.668153Z",
     "shell.execute_reply": "2023-06-03T16:31:25.667328Z"
    },
    "papermill": {
     "duration": 0.025054,
     "end_time": "2023-06-03T16:31:25.670439",
     "exception": false,
     "start_time": "2023-06-03T16:31:25.645385",
     "status": "completed"
    },
    "tags": []
   },
   "outputs": [],
   "source": [
    "X_test = pd.concat([X_test, ej_df], ignore_index=True, axis=1)"
   ]
  },
  {
   "cell_type": "code",
   "execution_count": 32,
   "id": "cff54036",
   "metadata": {
    "execution": {
     "iopub.execute_input": "2023-06-03T16:31:25.702484Z",
     "iopub.status.busy": "2023-06-03T16:31:25.701842Z",
     "iopub.status.idle": "2023-06-03T16:31:25.707623Z",
     "shell.execute_reply": "2023-06-03T16:31:25.706719Z"
    },
    "papermill": {
     "duration": 0.024615,
     "end_time": "2023-06-03T16:31:25.710052",
     "exception": false,
     "start_time": "2023-06-03T16:31:25.685437",
     "status": "completed"
    },
    "tags": []
   },
   "outputs": [],
   "source": [
    "X_test = X_test.iloc[:, 1:]"
   ]
  },
  {
   "cell_type": "code",
   "execution_count": 33,
   "id": "aaa55c98",
   "metadata": {
    "execution": {
     "iopub.execute_input": "2023-06-03T16:31:25.742680Z",
     "iopub.status.busy": "2023-06-03T16:31:25.741621Z",
     "iopub.status.idle": "2023-06-03T16:31:25.777230Z",
     "shell.execute_reply": "2023-06-03T16:31:25.775929Z"
    },
    "papermill": {
     "duration": 0.054648,
     "end_time": "2023-06-03T16:31:25.779947",
     "exception": false,
     "start_time": "2023-06-03T16:31:25.725299",
     "status": "completed"
    },
    "tags": []
   },
   "outputs": [
    {
     "data": {
      "text/html": [
       "<div>\n",
       "<style scoped>\n",
       "    .dataframe tbody tr th:only-of-type {\n",
       "        vertical-align: middle;\n",
       "    }\n",
       "\n",
       "    .dataframe tbody tr th {\n",
       "        vertical-align: top;\n",
       "    }\n",
       "\n",
       "    .dataframe thead th {\n",
       "        text-align: right;\n",
       "    }\n",
       "</style>\n",
       "<table border=\"1\" class=\"dataframe\">\n",
       "  <thead>\n",
       "    <tr style=\"text-align: right;\">\n",
       "      <th></th>\n",
       "      <th>1</th>\n",
       "      <th>2</th>\n",
       "      <th>3</th>\n",
       "      <th>4</th>\n",
       "      <th>5</th>\n",
       "      <th>6</th>\n",
       "      <th>7</th>\n",
       "      <th>8</th>\n",
       "      <th>9</th>\n",
       "      <th>10</th>\n",
       "      <th>...</th>\n",
       "      <th>48</th>\n",
       "      <th>49</th>\n",
       "      <th>50</th>\n",
       "      <th>51</th>\n",
       "      <th>52</th>\n",
       "      <th>53</th>\n",
       "      <th>54</th>\n",
       "      <th>55</th>\n",
       "      <th>56</th>\n",
       "      <th>57</th>\n",
       "    </tr>\n",
       "  </thead>\n",
       "  <tbody>\n",
       "    <tr>\n",
       "      <th>0</th>\n",
       "      <td>0.0</td>\n",
       "      <td>0.0</td>\n",
       "      <td>0.0</td>\n",
       "      <td>0.0</td>\n",
       "      <td>0.0</td>\n",
       "      <td>0.0</td>\n",
       "      <td>0.0</td>\n",
       "      <td>0.0</td>\n",
       "      <td>0.0</td>\n",
       "      <td>0.0</td>\n",
       "      <td>...</td>\n",
       "      <td>0.0</td>\n",
       "      <td>0.0</td>\n",
       "      <td>0.0</td>\n",
       "      <td>0.0</td>\n",
       "      <td>0.0</td>\n",
       "      <td>0.0</td>\n",
       "      <td>0.0</td>\n",
       "      <td>0.0</td>\n",
       "      <td>1.0</td>\n",
       "      <td>0</td>\n",
       "    </tr>\n",
       "    <tr>\n",
       "      <th>1</th>\n",
       "      <td>0.0</td>\n",
       "      <td>0.0</td>\n",
       "      <td>0.0</td>\n",
       "      <td>0.0</td>\n",
       "      <td>0.0</td>\n",
       "      <td>0.0</td>\n",
       "      <td>0.0</td>\n",
       "      <td>0.0</td>\n",
       "      <td>0.0</td>\n",
       "      <td>0.0</td>\n",
       "      <td>...</td>\n",
       "      <td>0.0</td>\n",
       "      <td>0.0</td>\n",
       "      <td>0.0</td>\n",
       "      <td>0.0</td>\n",
       "      <td>0.0</td>\n",
       "      <td>0.0</td>\n",
       "      <td>0.0</td>\n",
       "      <td>0.0</td>\n",
       "      <td>1.0</td>\n",
       "      <td>0</td>\n",
       "    </tr>\n",
       "    <tr>\n",
       "      <th>2</th>\n",
       "      <td>0.0</td>\n",
       "      <td>0.0</td>\n",
       "      <td>0.0</td>\n",
       "      <td>0.0</td>\n",
       "      <td>0.0</td>\n",
       "      <td>0.0</td>\n",
       "      <td>0.0</td>\n",
       "      <td>0.0</td>\n",
       "      <td>0.0</td>\n",
       "      <td>0.0</td>\n",
       "      <td>...</td>\n",
       "      <td>0.0</td>\n",
       "      <td>0.0</td>\n",
       "      <td>0.0</td>\n",
       "      <td>0.0</td>\n",
       "      <td>0.0</td>\n",
       "      <td>0.0</td>\n",
       "      <td>0.0</td>\n",
       "      <td>0.0</td>\n",
       "      <td>1.0</td>\n",
       "      <td>0</td>\n",
       "    </tr>\n",
       "    <tr>\n",
       "      <th>3</th>\n",
       "      <td>0.0</td>\n",
       "      <td>0.0</td>\n",
       "      <td>0.0</td>\n",
       "      <td>0.0</td>\n",
       "      <td>0.0</td>\n",
       "      <td>0.0</td>\n",
       "      <td>0.0</td>\n",
       "      <td>0.0</td>\n",
       "      <td>0.0</td>\n",
       "      <td>0.0</td>\n",
       "      <td>...</td>\n",
       "      <td>0.0</td>\n",
       "      <td>0.0</td>\n",
       "      <td>0.0</td>\n",
       "      <td>0.0</td>\n",
       "      <td>0.0</td>\n",
       "      <td>0.0</td>\n",
       "      <td>0.0</td>\n",
       "      <td>0.0</td>\n",
       "      <td>1.0</td>\n",
       "      <td>0</td>\n",
       "    </tr>\n",
       "    <tr>\n",
       "      <th>4</th>\n",
       "      <td>0.0</td>\n",
       "      <td>0.0</td>\n",
       "      <td>0.0</td>\n",
       "      <td>0.0</td>\n",
       "      <td>0.0</td>\n",
       "      <td>0.0</td>\n",
       "      <td>0.0</td>\n",
       "      <td>0.0</td>\n",
       "      <td>0.0</td>\n",
       "      <td>0.0</td>\n",
       "      <td>...</td>\n",
       "      <td>0.0</td>\n",
       "      <td>0.0</td>\n",
       "      <td>0.0</td>\n",
       "      <td>0.0</td>\n",
       "      <td>0.0</td>\n",
       "      <td>0.0</td>\n",
       "      <td>0.0</td>\n",
       "      <td>0.0</td>\n",
       "      <td>1.0</td>\n",
       "      <td>0</td>\n",
       "    </tr>\n",
       "  </tbody>\n",
       "</table>\n",
       "<p>5 rows × 57 columns</p>\n",
       "</div>"
      ],
      "text/plain": [
       "    1    2    3    4    5    6    7    8    9    10  ...   48   49   50   51  \\\n",
       "0  0.0  0.0  0.0  0.0  0.0  0.0  0.0  0.0  0.0  0.0  ...  0.0  0.0  0.0  0.0   \n",
       "1  0.0  0.0  0.0  0.0  0.0  0.0  0.0  0.0  0.0  0.0  ...  0.0  0.0  0.0  0.0   \n",
       "2  0.0  0.0  0.0  0.0  0.0  0.0  0.0  0.0  0.0  0.0  ...  0.0  0.0  0.0  0.0   \n",
       "3  0.0  0.0  0.0  0.0  0.0  0.0  0.0  0.0  0.0  0.0  ...  0.0  0.0  0.0  0.0   \n",
       "4  0.0  0.0  0.0  0.0  0.0  0.0  0.0  0.0  0.0  0.0  ...  0.0  0.0  0.0  0.0   \n",
       "\n",
       "    52   53   54   55   56  57  \n",
       "0  0.0  0.0  0.0  0.0  1.0   0  \n",
       "1  0.0  0.0  0.0  0.0  1.0   0  \n",
       "2  0.0  0.0  0.0  0.0  1.0   0  \n",
       "3  0.0  0.0  0.0  0.0  1.0   0  \n",
       "4  0.0  0.0  0.0  0.0  1.0   0  \n",
       "\n",
       "[5 rows x 57 columns]"
      ]
     },
     "execution_count": 33,
     "metadata": {},
     "output_type": "execute_result"
    }
   ],
   "source": [
    "X_test"
   ]
  },
  {
   "cell_type": "code",
   "execution_count": 34,
   "id": "46ae1305",
   "metadata": {
    "execution": {
     "iopub.execute_input": "2023-06-03T16:31:25.812289Z",
     "iopub.status.busy": "2023-06-03T16:31:25.811899Z",
     "iopub.status.idle": "2023-06-03T16:31:25.821530Z",
     "shell.execute_reply": "2023-06-03T16:31:25.820396Z"
    },
    "papermill": {
     "duration": 0.029058,
     "end_time": "2023-06-03T16:31:25.824304",
     "exception": false,
     "start_time": "2023-06-03T16:31:25.795246",
     "status": "completed"
    },
    "tags": []
   },
   "outputs": [],
   "source": [
    "output = pipe_lr.predict_proba(X_test)"
   ]
  },
  {
   "cell_type": "code",
   "execution_count": 35,
   "id": "c82d21f1",
   "metadata": {
    "execution": {
     "iopub.execute_input": "2023-06-03T16:31:25.856668Z",
     "iopub.status.busy": "2023-06-03T16:31:25.856219Z",
     "iopub.status.idle": "2023-06-03T16:31:25.863473Z",
     "shell.execute_reply": "2023-06-03T16:31:25.862277Z"
    },
    "papermill": {
     "duration": 0.026334,
     "end_time": "2023-06-03T16:31:25.865910",
     "exception": false,
     "start_time": "2023-06-03T16:31:25.839576",
     "status": "completed"
    },
    "tags": []
   },
   "outputs": [],
   "source": [
    "df_test[\"class_0\"] = output[:, 0]"
   ]
  },
  {
   "cell_type": "code",
   "execution_count": 36,
   "id": "141bcb08",
   "metadata": {
    "execution": {
     "iopub.execute_input": "2023-06-03T16:31:25.898419Z",
     "iopub.status.busy": "2023-06-03T16:31:25.898004Z",
     "iopub.status.idle": "2023-06-03T16:31:25.903794Z",
     "shell.execute_reply": "2023-06-03T16:31:25.902794Z"
    },
    "papermill": {
     "duration": 0.024874,
     "end_time": "2023-06-03T16:31:25.906251",
     "exception": false,
     "start_time": "2023-06-03T16:31:25.881377",
     "status": "completed"
    },
    "tags": []
   },
   "outputs": [],
   "source": [
    "df_test[\"class_1\"] = output[:, 1]"
   ]
  },
  {
   "cell_type": "code",
   "execution_count": 37,
   "id": "1ced8486",
   "metadata": {
    "execution": {
     "iopub.execute_input": "2023-06-03T16:31:25.938752Z",
     "iopub.status.busy": "2023-06-03T16:31:25.938331Z",
     "iopub.status.idle": "2023-06-03T16:31:25.944822Z",
     "shell.execute_reply": "2023-06-03T16:31:25.943559Z"
    },
    "papermill": {
     "duration": 0.025565,
     "end_time": "2023-06-03T16:31:25.947151",
     "exception": false,
     "start_time": "2023-06-03T16:31:25.921586",
     "status": "completed"
    },
    "tags": []
   },
   "outputs": [],
   "source": [
    "output = df_test[[\"Id\", \"class_0\", \"class_1\"]]"
   ]
  },
  {
   "cell_type": "code",
   "execution_count": 38,
   "id": "84cbec00",
   "metadata": {
    "execution": {
     "iopub.execute_input": "2023-06-03T16:31:25.979422Z",
     "iopub.status.busy": "2023-06-03T16:31:25.979026Z",
     "iopub.status.idle": "2023-06-03T16:31:25.990088Z",
     "shell.execute_reply": "2023-06-03T16:31:25.988799Z"
    },
    "papermill": {
     "duration": 0.030552,
     "end_time": "2023-06-03T16:31:25.992897",
     "exception": false,
     "start_time": "2023-06-03T16:31:25.962345",
     "status": "completed"
    },
    "tags": []
   },
   "outputs": [],
   "source": [
    "output.to_csv('submission.csv', index=False)"
   ]
  },
  {
   "cell_type": "code",
   "execution_count": 39,
   "id": "cf1722e1",
   "metadata": {
    "execution": {
     "iopub.execute_input": "2023-06-03T16:31:26.026549Z",
     "iopub.status.busy": "2023-06-03T16:31:26.026099Z",
     "iopub.status.idle": "2023-06-03T16:31:26.038461Z",
     "shell.execute_reply": "2023-06-03T16:31:26.037338Z"
    },
    "papermill": {
     "duration": 0.03279,
     "end_time": "2023-06-03T16:31:26.041688",
     "exception": false,
     "start_time": "2023-06-03T16:31:26.008898",
     "status": "completed"
    },
    "tags": []
   },
   "outputs": [
    {
     "data": {
      "text/html": [
       "<div>\n",
       "<style scoped>\n",
       "    .dataframe tbody tr th:only-of-type {\n",
       "        vertical-align: middle;\n",
       "    }\n",
       "\n",
       "    .dataframe tbody tr th {\n",
       "        vertical-align: top;\n",
       "    }\n",
       "\n",
       "    .dataframe thead th {\n",
       "        text-align: right;\n",
       "    }\n",
       "</style>\n",
       "<table border=\"1\" class=\"dataframe\">\n",
       "  <thead>\n",
       "    <tr style=\"text-align: right;\">\n",
       "      <th></th>\n",
       "      <th>Id</th>\n",
       "      <th>class_0</th>\n",
       "      <th>class_1</th>\n",
       "    </tr>\n",
       "  </thead>\n",
       "  <tbody>\n",
       "    <tr>\n",
       "      <th>0</th>\n",
       "      <td>00eed32682bb</td>\n",
       "      <td>0.08805</td>\n",
       "      <td>0.91195</td>\n",
       "    </tr>\n",
       "    <tr>\n",
       "      <th>1</th>\n",
       "      <td>010ebe33f668</td>\n",
       "      <td>0.08805</td>\n",
       "      <td>0.91195</td>\n",
       "    </tr>\n",
       "    <tr>\n",
       "      <th>2</th>\n",
       "      <td>02fa521e1838</td>\n",
       "      <td>0.08805</td>\n",
       "      <td>0.91195</td>\n",
       "    </tr>\n",
       "    <tr>\n",
       "      <th>3</th>\n",
       "      <td>040e15f562a2</td>\n",
       "      <td>0.08805</td>\n",
       "      <td>0.91195</td>\n",
       "    </tr>\n",
       "    <tr>\n",
       "      <th>4</th>\n",
       "      <td>046e85c7cc7f</td>\n",
       "      <td>0.08805</td>\n",
       "      <td>0.91195</td>\n",
       "    </tr>\n",
       "  </tbody>\n",
       "</table>\n",
       "</div>"
      ],
      "text/plain": [
       "             Id  class_0  class_1\n",
       "0  00eed32682bb  0.08805  0.91195\n",
       "1  010ebe33f668  0.08805  0.91195\n",
       "2  02fa521e1838  0.08805  0.91195\n",
       "3  040e15f562a2  0.08805  0.91195\n",
       "4  046e85c7cc7f  0.08805  0.91195"
      ]
     },
     "execution_count": 39,
     "metadata": {},
     "output_type": "execute_result"
    }
   ],
   "source": [
    "output"
   ]
  },
  {
   "cell_type": "code",
   "execution_count": null,
   "id": "7e6a2f3a",
   "metadata": {
    "papermill": {
     "duration": 0.015176,
     "end_time": "2023-06-03T16:31:26.072530",
     "exception": false,
     "start_time": "2023-06-03T16:31:26.057354",
     "status": "completed"
    },
    "tags": []
   },
   "outputs": [],
   "source": []
  }
 ],
 "metadata": {
  "kernelspec": {
   "display_name": "Python 3",
   "language": "python",
   "name": "python3"
  },
  "language_info": {
   "codemirror_mode": {
    "name": "ipython",
    "version": 3
   },
   "file_extension": ".py",
   "mimetype": "text/x-python",
   "name": "python",
   "nbconvert_exporter": "python",
   "pygments_lexer": "ipython3",
   "version": "3.10.10"
  },
  "papermill": {
   "default_parameters": {},
   "duration": 18.316264,
   "end_time": "2023-06-03T16:31:27.111542",
   "environment_variables": {},
   "exception": null,
   "input_path": "__notebook__.ipynb",
   "output_path": "__notebook__.ipynb",
   "parameters": {},
   "start_time": "2023-06-03T16:31:08.795278",
   "version": "2.4.0"
  }
 },
 "nbformat": 4,
 "nbformat_minor": 5
}
